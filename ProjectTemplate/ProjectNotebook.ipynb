{
 "cells": [
  {
   "cell_type": "markdown",
   "metadata": {},
   "source": [
    "# Hello!\n",
    "### Here I'm showcasing my data scraper and visualizer"
   ]
  },
  {
   "cell_type": "markdown",
   "metadata": {},
   "source": [
    "# Project Description"
   ]
  },
  {
   "cell_type": "markdown",
   "metadata": {},
   "source": [
    "My Project is a data scraper and visualizer specifically for scraping US Census data documented on wikepedia pages. My code works by scanning each US Census wikepedia page from 1790 - 2010 (Note skipping 1870 because the web page HTML was poorly formatted) for the City rank table then combining all of that data into a list of CityPopulation(A class I created to store city, state, and population:year) objects. Then with all that data I have the power to create dataframs for any city in the list, and the dataframes are used to create graphs to visualize the data."
   ]
  },
  {
   "cell_type": "markdown",
   "metadata": {},
   "source": [
    "# Guide\n",
    "## Note: make sure to run all the code as you go through the guide, and feel free to right click and clear outputs if the screen gets too cluttered"
   ]
  },
  {
   "cell_type": "code",
   "execution_count": null,
   "metadata": {
    "scrolled": true
   },
   "outputs": [],
   "source": [
    "from my_module.Functions_and_Classes import *"
   ]
  },
  {
   "cell_type": "markdown",
   "metadata": {},
   "source": [
    "My project is specifically designed for around scraping data from wikipedia pages. How it works is by first parsing the source code of a wikipedia page, then returning the table HTML with the get_wikitable_source function I created. Below is a demonstration of my get_wikitable_source function."
   ]
  },
  {
   "cell_type": "code",
   "execution_count": null,
   "metadata": {
    "scrolled": true
   },
   "outputs": [],
   "source": [
    "get_wikitable_source('https://en.wikipedia.org/wiki/List_of_colleges_and_universities_in_California')"
   ]
  },
  {
   "cell_type": "markdown",
   "metadata": {},
   "source": [
    "Next I created another function which takes in the HTML table source code outputted by get_wikitable_source and the column index and returns the information as a list. In the below example, my code returns the first columns of the first table for the inputted URL."
   ]
  },
  {
   "cell_type": "code",
   "execution_count": null,
   "metadata": {},
   "outputs": [],
   "source": [
    "sort_wikitable_column(get_wikitable_source('https://en.wikipedia.org/wiki/List_of_colleges_and_universities_in_California'), 0)"
   ]
  },
  {
   "cell_type": "markdown",
   "metadata": {},
   "source": [
    "Now using these two prior function I created a function US_census_data which takes in a year parameter and returns a list of CityPopulation Objects"
   ]
  },
  {
   "cell_type": "code",
   "execution_count": null,
   "metadata": {},
   "outputs": [],
   "source": [
    "census_data = US_census_data(2020)\n",
    "# Note this has a long run time so I put it in a seperate cell"
   ]
  },
  {
   "cell_type": "code",
   "execution_count": null,
   "metadata": {},
   "outputs": [],
   "source": [
    "census_data"
   ]
  },
  {
   "cell_type": "markdown",
   "metadata": {},
   "source": [
    "From the print out of the census data feel free to input any city in the list in place of \"Philadelphia\" and \"New York\""
   ]
  },
  {
   "cell_type": "code",
   "execution_count": null,
   "metadata": {},
   "outputs": [],
   "source": [
    "# Feel free to mess around with this and try other city names present in Census_data\n",
    "first_city = create_dataframe(census_data, \"Philadelphia\")\n",
    "second_city = create_dataframe(census_data, \"New York\")\n",
    "print(first_city)\n",
    "print(second_city)"
   ]
  },
  {
   "cell_type": "code",
   "execution_count": null,
   "metadata": {},
   "outputs": [],
   "source": [
    "# replace the city name with the subsequent city you've replaced it with above\n",
    "create_graph(first_city, \"New York\")\n",
    "create_graph(second_city, \"Philadelphia\")\n"
   ]
  },
  {
   "cell_type": "markdown",
   "metadata": {},
   "source": [
    "# Want to graph multiple cities? Input a list in the create_graphs function. Note that create_graphs has an S and doesn't take in a dataframe as it already uses the US census data"
   ]
  },
  {
   "cell_type": "code",
   "execution_count": null,
   "metadata": {},
   "outputs": [],
   "source": [
    "# Feel free to mess around and try as many combinations of cities that you can think of\n",
    "# Note that not all of the data is complete since US cities were added to the U.S census\n",
    "# at differing times\n",
    "create_graphs([\"Austin\", \"Phoenix\", \"San Diego\", \"Richmond\"])"
   ]
  },
  {
   "cell_type": "code",
   "execution_count": null,
   "metadata": {},
   "outputs": [],
   "source": [
    "create_graphs([\"Albany\", \"Boston\", \"Salem\"])"
   ]
  },
  {
   "cell_type": "markdown",
   "metadata": {},
   "source": [
    "# Now Just for Fun here is a graph everything in census function. The data is hard to see and the legend is a little too big but I made the text large for readability"
   ]
  },
  {
   "cell_type": "code",
   "execution_count": null,
   "metadata": {},
   "outputs": [],
   "source": [
    "graph_all_census()"
   ]
  },
  {
   "cell_type": "markdown",
   "metadata": {},
   "source": [
    "#### Extra Credit (*optional*)\n",
    "\n",
    "My python background was fairly rudimentary, but I came in as an experienced programmer in other languages like Java and Javascript. As a result, grasping the concepts wasn't too difficult, so I set higher expectations on myself for the complexity of the project. I did a lot of research into the libraries pandas, beautifulsoup4, matplotlib.pyplot, and requests to complete this project. I challenged myself by synthesizing all of these libraries and accomplishing my goal of learning how to scrape and visualize data."
   ]
  }
 ],
 "metadata": {
  "kernelspec": {
   "display_name": "Python 3",
   "language": "python",
   "name": "python3"
  },
  "language_info": {
   "codemirror_mode": {
    "name": "ipython",
    "version": 3
   },
   "file_extension": ".py",
   "mimetype": "text/x-python",
   "name": "python",
   "nbconvert_exporter": "python",
   "pygments_lexer": "ipython3",
   "version": "3.7.6"
  }
 },
 "nbformat": 4,
 "nbformat_minor": 4
}
